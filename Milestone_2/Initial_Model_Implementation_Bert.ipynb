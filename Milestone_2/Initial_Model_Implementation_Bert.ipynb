{
  "nbformat": 4,
  "nbformat_minor": 0,
  "metadata": {
    "kernelspec": {
      "display_name": "Python 3",
      "language": "python",
      "name": "python3"
    },
    "colab": {
      "name": "Initial Model Implementation Bert.ipynb",
      "provenance": [],
      "collapsed_sections": []
    }
  },
  "cells": [
    {
      "cell_type": "code",
      "metadata": {
        "id": "uGm4mDk6scoP",
        "colab_type": "code",
        "colab": {
          "base_uri": "https://localhost:8080/",
          "height": 428
        },
        "outputId": "f6658c5a-336f-4474-eec3-e77dfb94e817"
      },
      "source": [
        "!pip install transformers"
      ],
      "execution_count": 20,
      "outputs": [
        {
          "output_type": "stream",
          "text": [
            "Requirement already satisfied: transformers in /usr/local/lib/python3.6/dist-packages (2.8.0)\n",
            "Requirement already satisfied: tqdm>=4.27 in /usr/local/lib/python3.6/dist-packages (from transformers) (4.38.0)\n",
            "Requirement already satisfied: requests in /usr/local/lib/python3.6/dist-packages (from transformers) (2.21.0)\n",
            "Requirement already satisfied: sacremoses in /usr/local/lib/python3.6/dist-packages (from transformers) (0.0.38)\n",
            "Requirement already satisfied: filelock in /usr/local/lib/python3.6/dist-packages (from transformers) (3.0.12)\n",
            "Requirement already satisfied: dataclasses; python_version < \"3.7\" in /usr/local/lib/python3.6/dist-packages (from transformers) (0.7)\n",
            "Requirement already satisfied: sentencepiece in /usr/local/lib/python3.6/dist-packages (from transformers) (0.1.85)\n",
            "Requirement already satisfied: numpy in /usr/local/lib/python3.6/dist-packages (from transformers) (1.18.2)\n",
            "Requirement already satisfied: tokenizers==0.5.2 in /usr/local/lib/python3.6/dist-packages (from transformers) (0.5.2)\n",
            "Requirement already satisfied: boto3 in /usr/local/lib/python3.6/dist-packages (from transformers) (1.12.38)\n",
            "Requirement already satisfied: regex!=2019.12.17 in /usr/local/lib/python3.6/dist-packages (from transformers) (2019.12.20)\n",
            "Requirement already satisfied: chardet<3.1.0,>=3.0.2 in /usr/local/lib/python3.6/dist-packages (from requests->transformers) (3.0.4)\n",
            "Requirement already satisfied: idna<2.9,>=2.5 in /usr/local/lib/python3.6/dist-packages (from requests->transformers) (2.8)\n",
            "Requirement already satisfied: certifi>=2017.4.17 in /usr/local/lib/python3.6/dist-packages (from requests->transformers) (2020.4.5.1)\n",
            "Requirement already satisfied: urllib3<1.25,>=1.21.1 in /usr/local/lib/python3.6/dist-packages (from requests->transformers) (1.24.3)\n",
            "Requirement already satisfied: six in /usr/local/lib/python3.6/dist-packages (from sacremoses->transformers) (1.12.0)\n",
            "Requirement already satisfied: joblib in /usr/local/lib/python3.6/dist-packages (from sacremoses->transformers) (0.14.1)\n",
            "Requirement already satisfied: click in /usr/local/lib/python3.6/dist-packages (from sacremoses->transformers) (7.1.1)\n",
            "Requirement already satisfied: s3transfer<0.4.0,>=0.3.0 in /usr/local/lib/python3.6/dist-packages (from boto3->transformers) (0.3.3)\n",
            "Requirement already satisfied: jmespath<1.0.0,>=0.7.1 in /usr/local/lib/python3.6/dist-packages (from boto3->transformers) (0.9.5)\n",
            "Requirement already satisfied: botocore<1.16.0,>=1.15.38 in /usr/local/lib/python3.6/dist-packages (from boto3->transformers) (1.15.38)\n",
            "Requirement already satisfied: python-dateutil<3.0.0,>=2.1 in /usr/local/lib/python3.6/dist-packages (from botocore<1.16.0,>=1.15.38->boto3->transformers) (2.8.1)\n",
            "Requirement already satisfied: docutils<0.16,>=0.10 in /usr/local/lib/python3.6/dist-packages (from botocore<1.16.0,>=1.15.38->boto3->transformers) (0.15.2)\n"
          ],
          "name": "stdout"
        }
      ]
    },
    {
      "cell_type": "code",
      "metadata": {
        "id": "YFlRqW2UscoT",
        "colab_type": "code",
        "colab": {}
      },
      "source": [
        "import numpy as np\n",
        "import pandas as pd\n",
        "import torch\n",
        "import json\n",
        "import transformers as t\n",
        "from sklearn.linear_model import LogisticRegression\n",
        "from sklearn.model_selection import cross_val_score\n",
        "from sklearn.model_selection import train_test_split\n",
        "from sklearn.metrics import f1_score"
      ],
      "execution_count": 0,
      "outputs": []
    },
    {
      "cell_type": "code",
      "metadata": {
        "id": "ynYJIV6pskHQ",
        "colab_type": "code",
        "colab": {
          "base_uri": "https://localhost:8080/",
          "height": 54
        },
        "outputId": "384d08ca-9dc2-4719-8a11-738dbc3a99e7"
      },
      "source": [
        "from google.colab import drive\n",
        "drive.mount('/content/drive')"
      ],
      "execution_count": 22,
      "outputs": [
        {
          "output_type": "stream",
          "text": [
            "Drive already mounted at /content/drive; to attempt to forcibly remount, call drive.mount(\"/content/drive\", force_remount=True).\n"
          ],
          "name": "stdout"
        }
      ]
    },
    {
      "cell_type": "code",
      "metadata": {
        "id": "PARPdS_rscoW",
        "colab_type": "code",
        "colab": {}
      },
      "source": [
        "eco_news_pd = pd.read_json('./drive/My Drive/datasetEconomyNews_PN.json')"
      ],
      "execution_count": 0,
      "outputs": []
    },
    {
      "cell_type": "code",
      "metadata": {
        "id": "MlH9DqnrscoY",
        "colab_type": "code",
        "colab": {
          "base_uri": "https://localhost:8080/",
          "height": 674
        },
        "outputId": "ba17737f-7e44-49ce-a029-66799e205355"
      },
      "source": [
        "eco_news_pd"
      ],
      "execution_count": 24,
      "outputs": [
        {
          "output_type": "execute_result",
          "data": {
            "text/html": [
              "<div>\n",
              "<style scoped>\n",
              "    .dataframe tbody tr th:only-of-type {\n",
              "        vertical-align: middle;\n",
              "    }\n",
              "\n",
              "    .dataframe tbody tr th {\n",
              "        vertical-align: top;\n",
              "    }\n",
              "\n",
              "    .dataframe thead th {\n",
              "        text-align: right;\n",
              "    }\n",
              "</style>\n",
              "<table border=\"1\" class=\"dataframe\">\n",
              "  <thead>\n",
              "    <tr style=\"text-align: right;\">\n",
              "      <th></th>\n",
              "      <th>classification</th>\n",
              "      <th>headlineText</th>\n",
              "      <th>headlineTitle</th>\n",
              "      <th>idx</th>\n",
              "      <th>hour</th>\n",
              "      <th>siteAndDate</th>\n",
              "    </tr>\n",
              "  </thead>\n",
              "  <tbody>\n",
              "    <tr>\n",
              "      <th>0</th>\n",
              "      <td>1</td>\n",
              "      <td>President Trump said there was a “very, very g...</td>\n",
              "      <td>U.S. and China Extend Talks, but Final Deal Re...</td>\n",
              "      <td>0.0</td>\n",
              "      <td>NaN</td>\n",
              "      <td>NaN</td>\n",
              "    </tr>\n",
              "    <tr>\n",
              "      <th>1</th>\n",
              "      <td>1</td>\n",
              "      <td>Despite talk that the dollar was losing domina...</td>\n",
              "      <td>The Dollar Is Still King. How (in the World) D...</td>\n",
              "      <td>1.0</td>\n",
              "      <td>NaN</td>\n",
              "      <td>NaN</td>\n",
              "    </tr>\n",
              "    <tr>\n",
              "      <th>2</th>\n",
              "      <td>-1</td>\n",
              "      <td>The Fed released minutes of its January meetin...</td>\n",
              "      <td>Fed Explains Pause as Officials Debate Future ...</td>\n",
              "      <td>6.0</td>\n",
              "      <td>NaN</td>\n",
              "      <td>NaN</td>\n",
              "    </tr>\n",
              "    <tr>\n",
              "      <th>3</th>\n",
              "      <td>-1</td>\n",
              "      <td>A proposal to tax wealth finds support across ...</td>\n",
              "      <td>Democrats Want to Tax the Wealthy. Many Voters...</td>\n",
              "      <td>7.0</td>\n",
              "      <td>NaN</td>\n",
              "      <td>NaN</td>\n",
              "    </tr>\n",
              "    <tr>\n",
              "      <th>4</th>\n",
              "      <td>1</td>\n",
              "      <td>A decline in residential real estate has led s...</td>\n",
              "      <td>Housing Is Already in a Slump. So It (Probably...</td>\n",
              "      <td>8.0</td>\n",
              "      <td>NaN</td>\n",
              "      <td>NaN</td>\n",
              "    </tr>\n",
              "    <tr>\n",
              "      <th>...</th>\n",
              "      <td>...</td>\n",
              "      <td>...</td>\n",
              "      <td>...</td>\n",
              "      <td>...</td>\n",
              "      <td>...</td>\n",
              "      <td>...</td>\n",
              "    </tr>\n",
              "    <tr>\n",
              "      <th>557</th>\n",
              "      <td>-1</td>\n",
              "      <td>Closely followed strategist Jim Paulsen told C...</td>\n",
              "      <td>Strategist Jim Paulsen: The economy may soon l...</td>\n",
              "      <td>548.0</td>\n",
              "      <td>NaN</td>\n",
              "      <td>CNBC-16 de out de 2017</td>\n",
              "    </tr>\n",
              "    <tr>\n",
              "      <th>558</th>\n",
              "      <td>-1</td>\n",
              "      <td>President Trump gave U.S. steel companies a sh...</td>\n",
              "      <td>Steel stocks jump on Trump's tariff threat</td>\n",
              "      <td>550.0</td>\n",
              "      <td>NaN</td>\n",
              "      <td>CNNMoney-13 de jul de 2017</td>\n",
              "    </tr>\n",
              "    <tr>\n",
              "      <th>559</th>\n",
              "      <td>1</td>\n",
              "      <td>Earlier this year, Juul Labs quietly spun out ...</td>\n",
              "      <td>E-cigarette maker Juul is raising $150 million...</td>\n",
              "      <td>558.0</td>\n",
              "      <td>NaN</td>\n",
              "      <td>CNBC-19 de dez de 2017</td>\n",
              "    </tr>\n",
              "    <tr>\n",
              "      <th>560</th>\n",
              "      <td>1</td>\n",
              "      <td>Here's why FANG stocks will get stronger even ...</td>\n",
              "      <td>Here's why FANG stocks will get stronger even ...</td>\n",
              "      <td>560.0</td>\n",
              "      <td>NaN</td>\n",
              "      <td>CNBC-7 de jun de 2017</td>\n",
              "    </tr>\n",
              "    <tr>\n",
              "      <th>561</th>\n",
              "      <td>-1</td>\n",
              "      <td>But, in recent years, the stock market has not...</td>\n",
              "      <td>Market cap to GDP ratio signals upside for stocks</td>\n",
              "      <td>579.0</td>\n",
              "      <td>NaN</td>\n",
              "      <td>Hindu Business Line-29 de jan de 2017</td>\n",
              "    </tr>\n",
              "  </tbody>\n",
              "</table>\n",
              "<p>562 rows × 6 columns</p>\n",
              "</div>"
            ],
            "text/plain": [
              "     classification  ...                            siteAndDate\n",
              "0                 1  ...                                    NaN\n",
              "1                 1  ...                                    NaN\n",
              "2                -1  ...                                    NaN\n",
              "3                -1  ...                                    NaN\n",
              "4                 1  ...                                    NaN\n",
              "..              ...  ...                                    ...\n",
              "557              -1  ...                 CNBC-16 de out de 2017\n",
              "558              -1  ...             CNNMoney-13 de jul de 2017\n",
              "559               1  ...                 CNBC-19 de dez de 2017\n",
              "560               1  ...                  CNBC-7 de jun de 2017\n",
              "561              -1  ...  Hindu Business Line-29 de jan de 2017\n",
              "\n",
              "[562 rows x 6 columns]"
            ]
          },
          "metadata": {
            "tags": []
          },
          "execution_count": 24
        }
      ]
    },
    {
      "cell_type": "code",
      "metadata": {
        "id": "BYgF_GQEL6He",
        "colab_type": "code",
        "colab": {}
      },
      "source": [
        "#train_valid, test = train_test_split(eco_news_pd, test_size=0.2)"
      ],
      "execution_count": 0,
      "outputs": []
    },
    {
      "cell_type": "code",
      "metadata": {
        "id": "jyp4eysKMHsU",
        "colab_type": "code",
        "colab": {}
      },
      "source": [
        "#train, valid = train_test_split(train_valid, test_size=0.2)"
      ],
      "execution_count": 0,
      "outputs": []
    },
    {
      "cell_type": "code",
      "metadata": {
        "id": "dSUXMRPAscob",
        "colab_type": "code",
        "colab": {}
      },
      "source": [
        "# Importing pre-trained DistilBERT model and tokenizer\n",
        "model_class, tokenizer_class, pretrained_weights = (t.BertModel, t.BertTokenizer, 'bert-base-uncased')"
      ],
      "execution_count": 0,
      "outputs": []
    },
    {
      "cell_type": "code",
      "metadata": {
        "id": "lVLn4f0pscod",
        "colab_type": "code",
        "colab": {}
      },
      "source": [
        "# Load pretrained model/tokenizer\n",
        "tokenizer = tokenizer_class.from_pretrained(pretrained_weights)\n",
        "model = model_class.from_pretrained(pretrained_weights)"
      ],
      "execution_count": 0,
      "outputs": []
    },
    {
      "cell_type": "code",
      "metadata": {
        "id": "BlLL6K3Qscog",
        "colab_type": "code",
        "colab": {}
      },
      "source": [
        "tokenized_htext = eco_news_pd['headlineText'].apply((lambda x: tokenizer.encode(x, add_special_tokens=True)))"
      ],
      "execution_count": 0,
      "outputs": []
    },
    {
      "cell_type": "code",
      "metadata": {
        "id": "7paV6T6iufqo",
        "colab_type": "code",
        "colab": {
          "base_uri": "https://localhost:8080/",
          "height": 221
        },
        "outputId": "c5725375-8ffd-45ed-b1f7-16689438d65b"
      },
      "source": [
        "tokenized_htext"
      ],
      "execution_count": 43,
      "outputs": [
        {
          "output_type": "execute_result",
          "data": {
            "text/plain": [
              "0      [101, 2343, 8398, 2056, 2045, 2001, 1037, 1523...\n",
              "1      [101, 2750, 2831, 2008, 1996, 7922, 2001, 3974...\n",
              "2      [101, 1996, 7349, 2207, 2781, 1997, 2049, 2254...\n",
              "3      [101, 1037, 6378, 2000, 4171, 7177, 4858, 2490...\n",
              "4      [101, 1037, 6689, 1999, 5647, 2613, 3776, 2038...\n",
              "                             ...                        \n",
              "557    [101, 4876, 2628, 2358, 11657, 24063, 3958, 27...\n",
              "558    [101, 2343, 8398, 2435, 1057, 1012, 1055, 1012...\n",
              "559    [101, 3041, 2023, 2095, 1010, 18414, 5313, 136...\n",
              "560    [101, 2182, 1005, 1055, 2339, 15197, 15768, 20...\n",
              "561    [101, 2021, 1010, 1999, 3522, 2086, 1010, 1996...\n",
              "Name: headlineText, Length: 562, dtype: object"
            ]
          },
          "metadata": {
            "tags": []
          },
          "execution_count": 43
        }
      ]
    },
    {
      "cell_type": "code",
      "metadata": {
        "id": "GEvbkjGEumBD",
        "colab_type": "code",
        "colab": {
          "base_uri": "https://localhost:8080/",
          "height": 34
        },
        "outputId": "2c754749-1e08-4d0d-fc1e-fff6e208999d"
      },
      "source": [
        "type(tokenized_htext)"
      ],
      "execution_count": 44,
      "outputs": [
        {
          "output_type": "execute_result",
          "data": {
            "text/plain": [
              "pandas.core.series.Series"
            ]
          },
          "metadata": {
            "tags": []
          },
          "execution_count": 44
        }
      ]
    },
    {
      "cell_type": "code",
      "metadata": {
        "id": "kdihe6P4PSUa",
        "colab_type": "code",
        "colab": {}
      },
      "source": [
        "max_len = 0\n",
        "for sent in tokenized_htext.values:\n",
        "    if len(sent) > max_len:\n",
        "        max_len = len(sent)\n",
        "\n",
        "padded_tokenized_htext = np.array([sent + [0]*(max_len - len(sent)) for sent in tokenized_htext.values])"
      ],
      "execution_count": 0,
      "outputs": []
    },
    {
      "cell_type": "code",
      "metadata": {
        "id": "tXuH2uOObJyQ",
        "colab_type": "code",
        "colab": {
          "base_uri": "https://localhost:8080/",
          "height": 34
        },
        "outputId": "de26807b-1f08-460e-a69a-2ec96161c832"
      },
      "source": [
        "padded_tokenized_htext.shape"
      ],
      "execution_count": 46,
      "outputs": [
        {
          "output_type": "execute_result",
          "data": {
            "text/plain": [
              "(562, 80)"
            ]
          },
          "metadata": {
            "tags": []
          },
          "execution_count": 46
        }
      ]
    },
    {
      "cell_type": "code",
      "metadata": {
        "id": "SdRWSe9JbShk",
        "colab_type": "code",
        "colab": {
          "base_uri": "https://localhost:8080/",
          "height": 34
        },
        "outputId": "89eea7ac-9b01-419d-a994-9eca23f35c99"
      },
      "source": [
        "attention_mask = np.where(padded_tokenized_htext != 0, 1, 0)\n",
        "attention_mask.shape"
      ],
      "execution_count": 47,
      "outputs": [
        {
          "output_type": "execute_result",
          "data": {
            "text/plain": [
              "(562, 80)"
            ]
          },
          "metadata": {
            "tags": []
          },
          "execution_count": 47
        }
      ]
    },
    {
      "cell_type": "code",
      "metadata": {
        "id": "wui9zK5ebif2",
        "colab_type": "code",
        "colab": {}
      },
      "source": [
        "input = torch.tensor(padded_tokenized_htext)\n",
        "attention_mask = torch.tensor(attention_mask)\n",
        "\n",
        "with torch.no_grad():\n",
        "    last_hidden_state = model(input, attention_mask=attention_mask)"
      ],
      "execution_count": 0,
      "outputs": []
    },
    {
      "cell_type": "code",
      "metadata": {
        "id": "OTs8p4fob2ZX",
        "colab_type": "code",
        "colab": {}
      },
      "source": [
        "features = last_hidden_state[0][:,0,:]"
      ],
      "execution_count": 0,
      "outputs": []
    },
    {
      "cell_type": "code",
      "metadata": {
        "id": "lmeQo3gbdA6V",
        "colab_type": "code",
        "colab": {}
      },
      "source": [
        "labels = eco_news_pd['classification']"
      ],
      "execution_count": 0,
      "outputs": []
    },
    {
      "cell_type": "code",
      "metadata": {
        "id": "fuA8TznRdIpQ",
        "colab_type": "code",
        "colab": {
          "base_uri": "https://localhost:8080/",
          "height": 119
        },
        "outputId": "4c1aa864-7b3d-44bb-c1ad-9a2a6f4b5f18"
      },
      "source": [
        "labels.head()"
      ],
      "execution_count": 56,
      "outputs": [
        {
          "output_type": "execute_result",
          "data": {
            "text/plain": [
              "0    1\n",
              "1    1\n",
              "2   -1\n",
              "3   -1\n",
              "4    1\n",
              "Name: classification, dtype: int64"
            ]
          },
          "metadata": {
            "tags": []
          },
          "execution_count": 56
        }
      ]
    },
    {
      "cell_type": "code",
      "metadata": {
        "id": "C9cAiIsXdOYS",
        "colab_type": "code",
        "colab": {}
      },
      "source": [
        "train_features, test_features, train_labels, test_labels = train_test_split(features, labels)"
      ],
      "execution_count": 0,
      "outputs": []
    },
    {
      "cell_type": "code",
      "metadata": {
        "id": "1TgCIjbqdXg-",
        "colab_type": "code",
        "colab": {
          "base_uri": "https://localhost:8080/",
          "height": 102
        },
        "outputId": "50465c61-56d7-4ff0-ecaa-a41bafcad55f"
      },
      "source": [
        "lr_clf = LogisticRegression(max_iter=300)\n",
        "lr_clf.fit(train_features, train_labels)"
      ],
      "execution_count": 61,
      "outputs": [
        {
          "output_type": "execute_result",
          "data": {
            "text/plain": [
              "LogisticRegression(C=1.0, class_weight=None, dual=False, fit_intercept=True,\n",
              "                   intercept_scaling=1, l1_ratio=None, max_iter=300,\n",
              "                   multi_class='auto', n_jobs=None, penalty='l2',\n",
              "                   random_state=None, solver='lbfgs', tol=0.0001, verbose=0,\n",
              "                   warm_start=False)"
            ]
          },
          "metadata": {
            "tags": []
          },
          "execution_count": 61
        }
      ]
    },
    {
      "cell_type": "code",
      "metadata": {
        "id": "NGvPBaS_digi",
        "colab_type": "code",
        "colab": {
          "base_uri": "https://localhost:8080/",
          "height": 34
        },
        "outputId": "66686901-601b-4a62-b95d-e723f575643b"
      },
      "source": [
        "lr_clf.score(test_features, test_labels)"
      ],
      "execution_count": 62,
      "outputs": [
        {
          "output_type": "execute_result",
          "data": {
            "text/plain": [
              "0.7375886524822695"
            ]
          },
          "metadata": {
            "tags": []
          },
          "execution_count": 62
        }
      ]
    },
    {
      "cell_type": "code",
      "metadata": {
        "id": "GGkz0HCYfYcy",
        "colab_type": "code",
        "colab": {}
      },
      "source": [
        "predict_test = lr_clf.predict(test_features)"
      ],
      "execution_count": 0,
      "outputs": []
    },
    {
      "cell_type": "code",
      "metadata": {
        "id": "23knm-hnf1MA",
        "colab_type": "code",
        "colab": {
          "base_uri": "https://localhost:8080/",
          "height": 34
        },
        "outputId": "66e20189-37d3-4336-af6d-bf83680546b9"
      },
      "source": [
        "f1_score(test_labels, predict_test)"
      ],
      "execution_count": 71,
      "outputs": [
        {
          "output_type": "execute_result",
          "data": {
            "text/plain": [
              "0.6336633663366336"
            ]
          },
          "metadata": {
            "tags": []
          },
          "execution_count": 71
        }
      ]
    },
    {
      "cell_type": "code",
      "metadata": {
        "id": "m5mVwgSkeKiQ",
        "colab_type": "code",
        "colab": {
          "base_uri": "https://localhost:8080/",
          "height": 88
        },
        "outputId": "1057b4e3-f0f8-4a61-a519-639e07852683"
      },
      "source": [
        "\n",
        "from sklearn.dummy import DummyClassifier\n",
        "dm_clf = DummyClassifier()\n",
        "\n",
        "scores = cross_val_score(dm_clf, train_features, train_labels)\n",
        "print(\"Dummy classifier score: %0.3f (+/- %0.2f)\" % (scores.mean(), scores.std() * 2))"
      ],
      "execution_count": 63,
      "outputs": [
        {
          "output_type": "stream",
          "text": [
            "Dummy classifier score: 0.560 (+/- 0.15)\n"
          ],
          "name": "stdout"
        },
        {
          "output_type": "stream",
          "text": [
            "/usr/local/lib/python3.6/dist-packages/sklearn/dummy.py:132: FutureWarning: The default value of strategy will change from stratified to prior in 0.24.\n",
            "  \"stratified to prior in 0.24.\", FutureWarning)\n"
          ],
          "name": "stderr"
        }
      ]
    }
  ]
}