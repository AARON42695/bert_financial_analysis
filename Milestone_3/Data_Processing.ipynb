{
 "cells": [
  {
   "cell_type": "code",
   "execution_count": 5,
   "metadata": {},
   "outputs": [],
   "source": [
    "import pandas as pd\n",
    "\n",
    "eco_news_pd = pd.read_json('datasetEconomyNews_PN.json')\n",
    "headlines = eco_news_pd['headlineTitle']\n",
    "texts = eco_news_pd['headlineText']\n",
    "labels = eco_news_pd['classification']\n",
    "\n",
    "headlines_df = pd.DataFrame(list(zip(headlines, labels)), columns = ['X_text', 'y_label'])\n",
    "texts_df = pd.DataFrame(list(zip(texts, labels)), columns = ['X_text', 'y_label'])"
   ]
  },
  {
   "cell_type": "code",
   "execution_count": 7,
   "metadata": {},
   "outputs": [],
   "source": [
    "from sklearn.model_selection import train_test_split\n",
    "doubled_df = pd.concat([headlines_df, texts_df], ignore_index=True)\n",
    "X = doubled_df['X_text']\n",
    "y = doubled_df['y_label']\n",
    "X_train, X_devtest, y_train, y_devtest = train_test_split(\n",
    "     X, y, test_size=0.3, random_state=42)"
   ]
  },
  {
   "cell_type": "code",
   "execution_count": 8,
   "metadata": {},
   "outputs": [],
   "source": [
    "X_dev, X_test, y_dev, y_test = train_test_split(\n",
    "     X_devtest, y_devtest, test_size=0.5, random_state=42)"
   ]
  },
  {
   "cell_type": "code",
   "execution_count": 9,
   "metadata": {},
   "outputs": [
    {
     "name": "stdout",
     "output_type": "stream",
     "text": [
      "169 169 786\n"
     ]
    }
   ],
   "source": [
    "print(len(X_dev), len(X_test), len(X_train))"
   ]
  },
  {
   "cell_type": "code",
   "execution_count": 19,
   "metadata": {},
   "outputs": [
    {
     "data": {
      "text/plain": [
       "884     \"U.S. economic growth has sharply decelerated ...\n",
       "928     If you needed a sign that the global economy i...\n",
       "670     Many businesses are ill-equipped or unwilling ...\n",
       "65      As U.S.-China Trade War Rages, Some Australian...\n",
       "398     Video Games Impact the Economy More Than You T...\n",
       "                              ...                        \n",
       "466     Here's How The Overseas Markets Affect Austral...\n",
       "121     Trump Approach on Nafta Relieves Automakers’ W...\n",
       "1044    Large cap stocks are far more liquid and are o...\n",
       "1095    Presidents love to take credit for a rising ec...\n",
       "860     The largest bank in Europe lowered its stance ...\n",
       "Name: X_text, Length: 786, dtype: object"
      ]
     },
     "execution_count": 19,
     "metadata": {},
     "output_type": "execute_result"
    }
   ],
   "source": [
    "X_train"
   ]
  },
  {
   "cell_type": "code",
   "execution_count": 25,
   "metadata": {},
   "outputs": [],
   "source": [
    "train = pd.DataFrame(list(zip(X_train, y_train)), columns = ['X', 'y'])\n",
    "train.to_csv (r'finan_news_train.csv', index = False, header=True)"
   ]
  },
  {
   "cell_type": "code",
   "execution_count": 26,
   "metadata": {},
   "outputs": [],
   "source": [
    "dev = pd.DataFrame(list(zip(X_dev, y_dev)), columns = ['X', 'y'])\n",
    "dev.to_csv (r'finan_news_dev.csv', index = False, header=True)"
   ]
  },
  {
   "cell_type": "code",
   "execution_count": 27,
   "metadata": {},
   "outputs": [],
   "source": [
    "test = pd.DataFrame(list(zip(X_test, y_test)), columns = ['X', 'y'])\n",
    "test.to_csv (r'finan_news_test.csv', index = False, header=True)"
   ]
  },
  {
   "cell_type": "code",
   "execution_count": null,
   "metadata": {},
   "outputs": [],
   "source": []
  }
 ],
 "metadata": {
  "kernelspec": {
   "display_name": "Python 3",
   "language": "python",
   "name": "python3"
  },
  "language_info": {
   "codemirror_mode": {
    "name": "ipython",
    "version": 3
   },
   "file_extension": ".py",
   "mimetype": "text/x-python",
   "name": "python",
   "nbconvert_exporter": "python",
   "pygments_lexer": "ipython3",
   "version": "3.7.3"
  }
 },
 "nbformat": 4,
 "nbformat_minor": 2
}
